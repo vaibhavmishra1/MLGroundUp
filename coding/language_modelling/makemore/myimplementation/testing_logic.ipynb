{
 "cells": [
  {
   "cell_type": "code",
   "execution_count": 31,
   "id": "f1283988",
   "metadata": {},
   "outputs": [
    {
     "name": "stdout",
     "output_type": "stream",
     "text": [
      "['.', 'a', 'b', 'c', 'd', 'e', 'f', 'g', 'h', 'i', 'j', 'k', 'l', 'm', 'n', 'o', 'p', 'q', 'r', 's', 't', 'u', 'v', 'w', 'x', 'y', 'z']\n"
     ]
    }
   ],
   "source": [
    "chars = set()\n",
    "with open(\"names.txt\", \"r\") as f:\n",
    "    names = f.read().splitlines()\n",
    "for name in names:\n",
    "    chars.update(list(name))\n",
    "chars = sorted(chars)\n",
    "chars = ['.'] + list(chars) \n",
    "print(chars)"
   ]
  },
  {
   "cell_type": "code",
   "execution_count": 32,
   "id": "8ecf312a",
   "metadata": {},
   "outputs": [
    {
     "name": "stdout",
     "output_type": "stream",
     "text": [
      "{'.': 0, 'a': 1, 'b': 2, 'c': 3, 'd': 4, 'e': 5, 'f': 6, 'g': 7, 'h': 8, 'i': 9, 'j': 10, 'k': 11, 'l': 12, 'm': 13, 'n': 14, 'o': 15, 'p': 16, 'q': 17, 'r': 18, 's': 19, 't': 20, 'u': 21, 'v': 22, 'w': 23, 'x': 24, 'y': 25, 'z': 26}\n",
      "{0: '.', 1: 'a', 2: 'b', 3: 'c', 4: 'd', 5: 'e', 6: 'f', 7: 'g', 8: 'h', 9: 'i', 10: 'j', 11: 'k', 12: 'l', 13: 'm', 14: 'n', 15: 'o', 16: 'p', 17: 'q', 18: 'r', 19: 's', 20: 't', 21: 'u', 22: 'v', 23: 'w', 24: 'x', 25: 'y', 26: 'z'}\n"
     ]
    }
   ],
   "source": [
    "stoi = {c:i for i,c in enumerate((list(chars)))}\n",
    "print(stoi)\n",
    "itos = {i:c for c,i in stoi.items()}\n",
    "print(itos)\n"
   ]
  },
  {
   "cell_type": "code",
   "execution_count": 33,
   "id": "fa25d03c",
   "metadata": {},
   "outputs": [],
   "source": [
    "import torch \n",
    "bigram_tensor = torch.zeros((27,27), dtype=torch.int32)\n",
    "\n",
    "for name in names:\n",
    "    chrs = ['.'] + list(name) + ['.']\n",
    "    for i in range(len(chrs) - 1):\n",
    "        bigram_tensor[stoi[chrs[i]], stoi[chrs[i+1]]] += 1\n",
    "  "
   ]
  },
  {
   "cell_type": "code",
   "execution_count": 34,
   "id": "17a45bea",
   "metadata": {},
   "outputs": [],
   "source": [
    "bigram_tensor = bigram_tensor.float()\n",
    "bigram_tensor /=  bigram_tensor.sum(dim = 1, keepdim =  True)\n",
    "\n",
    "\n"
   ]
  },
  {
   "cell_type": "code",
   "execution_count": null,
   "id": "cd959808",
   "metadata": {},
   "outputs": [
    {
     "name": "stdout",
     "output_type": "stream",
     "text": [
      "t.\n",
      "bha.\n",
      "caan.\n",
      "danest.\n",
      "jeeryalirellleeaiabolann.\n",
      "thms.\n",
      "eela.\n",
      "teyomil.\n",
      "anan.\n",
      "namaralustaayzembey.\n",
      "ylegiexicosann.\n",
      "alionnda.\n",
      "koeeiyave.\n",
      "d.\n",
      "abrelyahlidavaderaheshahaalarladi.\n",
      "wyjabreelellolalavioorrin.\n",
      "cen.\n",
      "yterynt.\n",
      "wabay.\n",
      "alesashee.\n",
      "ima.\n",
      "mayuronaa.\n",
      "a.\n",
      "elylielerno.\n",
      "cie.\n",
      "stameyn.\n",
      "stravare.\n",
      "ke.\n",
      "ma.\n",
      "jd.\n",
      "kabrayckheeryndriserasir.\n",
      "a.\n",
      "analyn.\n",
      "anylon.\n",
      "pasi.\n",
      "yvan.\n",
      "zonalosi.\n",
      "jennanalar.\n",
      "yarafala.\n",
      "ereal.\n",
      "sakima.\n",
      "jopeetetiaiaroeisisi.\n",
      "xererigacho.\n",
      "aze.\n",
      "fenabileign.\n",
      "prireliriualan.\n",
      "kohah.\n",
      "scyes.\n",
      "rle.\n",
      "sh.\n",
      "cadi.\n",
      "m.\n",
      "daman.\n",
      "qulahree.\n",
      "tana.\n",
      "zulem.\n",
      "jievali.\n",
      "amango.\n",
      "rtosoryonaleen.\n",
      "ala.\n",
      "syayasatieey.\n",
      "rsmawitridostttilim.\n",
      "bel.\n",
      "n.\n",
      "aranah.\n",
      "pheaeylyada.\n",
      "bronn.\n",
      "jar.\n",
      "vieman.\n",
      "n.\n",
      "usi.\n",
      "d.\n",
      "a.\n",
      "ghagonamicaen.\n",
      "n.\n",
      "zllylelloly.\n",
      "jabriara.\n",
      "ry.\n",
      "ce.\n",
      "san.\n",
      "jero.\n",
      "traylishis.\n",
      "an.\n",
      "dinn.\n",
      "r.\n",
      "morasstossliorinan.\n",
      "ckallwoen.\n",
      "emah.\n",
      "e.\n",
      "fahar.\n",
      "rema.\n",
      "delilmm.\n",
      "guajenah.\n",
      "n.\n",
      "xyn.\n",
      "kitora.\n",
      "emy.\n",
      "be.\n",
      "ggareomash.\n",
      "tahathaman.\n"
     ]
    }
   ],
   "source": [
    "idx = 0\n",
    "def sample_from_bigram(bigram_tensor):\n",
    "    \"\"\"\n",
    "    implementation of sampling a value from cumulative probability distribution\n",
    "    \"\"\"\n",
    "    cdf_tensor = bigram_tensor.cumsum(0)\n",
    "    rand_value = torch.rand(1)\n",
    "\n",
    "    for i in range(cdf_tensor.shape[0]):\n",
    "        if cdf_tensor[i] > rand_value:\n",
    "            idx = i\n",
    "            break\n",
    "\n",
    "    return idx\n",
    "\n",
    "for i in range(100):\n",
    "    word = []\n",
    "    while True:\n",
    "        next_idx = sample_from_bigram(bigram_tensor[idx, :])\n",
    "        idx = next_idx\n",
    "        word.append(itos[idx])\n",
    "        if idx == 0:\n",
    "            break\n",
    "    print(\"\".join(word))"
   ]
  },
  {
   "cell_type": "code",
   "execution_count": null,
   "id": "1261c701",
   "metadata": {},
   "outputs": [],
   "source": []
  }
 ],
 "metadata": {
  "kernelspec": {
   "display_name": "Python 3",
   "language": "python",
   "name": "python3"
  },
  "language_info": {
   "codemirror_mode": {
    "name": "ipython",
    "version": 3
   },
   "file_extension": ".py",
   "mimetype": "text/x-python",
   "name": "python",
   "nbconvert_exporter": "python",
   "pygments_lexer": "ipython3",
   "version": "3.12.8"
  }
 },
 "nbformat": 4,
 "nbformat_minor": 5
}
