{
 "cells": [
  {
   "cell_type": "code",
   "execution_count": null,
   "id": "f1283988",
   "metadata": {},
   "outputs": [],
   "source": [
    "chars = set()\n",
    "with open(\"names.txt\", \"r\") as f:\n",
    "    names = f.read().splitlines()\n",
    "for name in names:\n",
    "    chars.update(list(name))\n",
    "chars = sorted(chars)\n",
    "chars = ['.'] + list(chars) \n",
    "print(chars)\n"
   ]
  },
  {
   "cell_type": "code",
   "execution_count": null,
   "id": "8ecf312a",
   "metadata": {},
   "outputs": [],
   "source": [
    "stoi = {}\n",
    "idx = 0\n",
    "for i in range(len(chars)):\n",
    "    stoi[chars[i]] = idx \n",
    "    idx+=1\n",
    "for char_1 in chars:\n",
    "    for char_2 in chars:\n",
    "        stoi[(char_1, char_2)] = idx\n",
    "        idx  +=1\n",
    "\n",
    "itos = {i:c for c,i in stoi.items()}\n",
    "print(stoi)\n",
    "\n",
    "print(itos)\n"
   ]
  },
  {
   "cell_type": "code",
   "execution_count": null,
   "id": "fa25d03c",
   "metadata": {},
   "outputs": [],
   "source": [
    "import torch \n",
    "trigram_tensor = torch.zeros((812,28), dtype=torch.int32)\n",
    "\n",
    "for name in names:\n",
    "    chrs = ['.', '.'] + list(name) + ['.']\n",
    "\n",
    "    for i in range(len(chrs) - 2):\n",
    "        trigram_tensor[stoi[(chrs[i], chrs[i+1])], stoi[chrs[i+2]]] += 1\n",
    "  "
   ]
  },
  {
   "cell_type": "code",
   "execution_count": null,
   "id": "17a45bea",
   "metadata": {},
   "outputs": [],
   "source": [
    "trigram_tensor = trigram_tensor.float()\n",
    "trigram_tensor /=  trigram_tensor.sum(dim = 1, keepdim =  True)\n",
    "\n",
    "\n"
   ]
  },
  {
   "cell_type": "code",
   "execution_count": null,
   "id": "37700940",
   "metadata": {},
   "outputs": [],
   "source": []
  },
  {
   "cell_type": "code",
   "execution_count": null,
   "id": "cd959808",
   "metadata": {},
   "outputs": [],
   "source": [
    "\n",
    "def sample_from_trigram(trigram_tensor):\n",
    "    \"\"\"\n",
    "    implementation of sampling a value from cumulative probability distribution\n",
    "    \"\"\"\n",
    "    cdf_tensor = trigram_tensor.cumsum(0)\n",
    "    rand_value = torch.rand(1)\n",
    "    idx = 0\n",
    "    for i in range(cdf_tensor.shape[0]):\n",
    "        if cdf_tensor[i] > rand_value:\n",
    "            idx = i\n",
    "            break\n",
    "\n",
    "    return idx\n",
    "\n",
    "for i in range(200):\n",
    "    idx = stoi[('.', '.')]\n",
    "    word = ['.', '.']\n",
    "    while True:\n",
    "        next_idx = sample_from_trigram(trigram_tensor[idx, :])\n",
    "        next_char = itos[next_idx]\n",
    "\n",
    "        word.append(next_char)\n",
    "\n",
    "        idx = stoi[(word[-2], word[-1])]\n",
    "        if next_idx == 0:\n",
    "            break\n",
    "    print(\"\".join(word[2:-1]))"
   ]
  },
  {
   "cell_type": "code",
   "execution_count": null,
   "id": "1261c701",
   "metadata": {},
   "outputs": [],
   "source": [
    "chars = set()\n",
    "with open(\"names.txt\", \"r\") as f:\n",
    "    names = f.read().splitlines()\n",
    "for name in names:\n",
    "    chars.update(list(name))\n",
    "chars = sorted(chars)\n",
    "chars = ['.'] + list(chars) \n",
    "stoi = {}\n",
    "idx = 0\n",
    "for i in range(len(chars)):\n",
    "    stoi[chars[i]] = idx \n",
    "    idx+=1\n",
    "\n",
    "itos = {i:c for c,i in stoi.items()}\n",
    "print(stoi)\n",
    "\n",
    "print(itos)"
   ]
  },
  {
   "cell_type": "code",
   "execution_count": null,
   "id": "d1814f18",
   "metadata": {},
   "outputs": [],
   "source": [
    "import torch.nn.functional as F\n",
    "import torch\n",
    "x_feats = []\n",
    "y_feats = []\n",
    "\n",
    "\n",
    "for name in names:\n",
    "    chrs = ['.'] + list(name) + ['.']\n",
    "    for i in range(len(chrs) - 1):\n",
    "        x_idx = torch.tensor(stoi[chrs[i]])\n",
    "        y_idx = torch.tensor(stoi[chrs[i+1]])\n",
    "\n",
    "        x_feats.append(x_idx)\n",
    "        y_feats.append(y_idx)\n",
    "        # print(x_feat, y_feat)\n",
    "        # print(chrs[i], chrs[i+1])\n",
    "x_feats = torch.tensor(x_feats)\n",
    "y_feats = torch.tensor(y_feats)\n",
    "\n",
    "x_feats = F.one_hot(x_feats, num_classes=len(chars))\n",
    "\n",
    "x_feats = x_feats.float()\n",
    "\n",
    "print(x_feats.shape)\n",
    "print(y_feats.shape)"
   ]
  },
  {
   "cell_type": "code",
   "execution_count": null,
   "id": "dab5af18",
   "metadata": {},
   "outputs": [],
   "source": [
    "# x_feats = (228146, 27)\n",
    "# W = (27, 27)\n",
    "# X @ W = (228146, 27) @ (27, 27) = (228146, 27)\n",
    "W =  torch.randn((27, 27), requires_grad=True)\n",
    "O = x_feats @ W\n",
    "print(O.shape)"
   ]
  },
  {
   "cell_type": "code",
   "execution_count": null,
   "id": "8e93a95f",
   "metadata": {},
   "outputs": [],
   "source": [
    "print(O[0,:])"
   ]
  },
  {
   "cell_type": "code",
   "execution_count": null,
   "id": "593cb962",
   "metadata": {},
   "outputs": [],
   "source": [
    "\n",
    "print(O[0,:])\n",
    "O = O.exp()\n",
    "O_sum = O.sum(1, keepdim=True)\n",
    "O_softmax = O / O_sum\n",
    "print(O_sum[0,:])\n",
    "print(O_softmax.shape)\n",
    "print(O_softmax[0,:])"
   ]
  },
  {
   "cell_type": "code",
   "execution_count": null,
   "id": "ba67997b",
   "metadata": {},
   "outputs": [],
   "source": [
    "print(O_softmax.shape)"
   ]
  },
  {
   "cell_type": "code",
   "execution_count": null,
   "id": "fff006e8",
   "metadata": {},
   "outputs": [],
   "source": [
    "loss = O_softmax[ torch.arange(O_softmax.shape[0]), y_feats]\n",
    "loss = -loss.log().mean()"
   ]
  },
  {
   "cell_type": "code",
   "execution_count": null,
   "id": "fee28a9c",
   "metadata": {},
   "outputs": [],
   "source": [
    "for i in range(100):\n",
    "    O = x_feats @ W\n",
    "    O = O.exp()\n",
    "    O_sum = O.sum(1, keepdim=True)\n",
    "    O_softmax = O / O_sum\n",
    "    loss = O_softmax[ torch.arange(O_softmax.shape[0]), y_feats]\n",
    "    loss = -loss.log().mean()\n",
    "    loss.backward()\n",
    "    loss.zero_grad()\n",
    "    print(loss)\n",
    "\n"
   ]
  },
  {
   "cell_type": "code",
   "execution_count": null,
   "id": "b63622da",
   "metadata": {},
   "outputs": [
    {
     "name": "stdout",
     "output_type": "stream",
     "text": [
      "None\n"
     ]
    }
   ],
   "source": []
  },
  {
   "cell_type": "code",
   "execution_count": null,
   "id": "931733e0",
   "metadata": {},
   "outputs": [],
   "source": []
  }
 ],
 "metadata": {
  "kernelspec": {
   "display_name": "Python 3",
   "language": "python",
   "name": "python3"
  },
  "language_info": {
   "codemirror_mode": {
    "name": "ipython",
    "version": 3
   },
   "file_extension": ".py",
   "mimetype": "text/x-python",
   "name": "python",
   "nbconvert_exporter": "python",
   "pygments_lexer": "ipython3",
   "version": "3.12.8"
  }
 },
 "nbformat": 4,
 "nbformat_minor": 5
}
